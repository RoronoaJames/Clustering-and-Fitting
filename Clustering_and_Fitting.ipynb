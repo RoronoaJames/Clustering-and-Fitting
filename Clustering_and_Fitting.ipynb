{
  "nbformat": 4,
  "nbformat_minor": 0,
  "metadata": {
    "colab": {
      "provenance": []
    },
    "kernelspec": {
      "name": "python3",
      "display_name": "Python 3"
    },
    "language_info": {
      "name": "python"
    }
  },
  "cells": [
    {
      "cell_type": "code",
      "execution_count": 20,
      "metadata": {
        "id": "V37cBET9IS3x"
      },
      "outputs": [],
      "source": [
        "import pandas as pd\n",
        "import numpy as np\n",
        "import matplotlib.pyplot as plt\n",
        "import seaborn as sns\n",
        "from sklearn.cluster import KMeans\n",
        "from sklearn.linear_model import LinearRegression\n",
        "from sklearn.preprocessing import StandardScaler\n",
        "from sklearn.metrics import silhouette_score\n",
        "from scipy.stats import skew, kurtosis"
      ]
    },
    {
      "cell_type": "code",
      "source": [
        "# Load the dataset\n",
        "def load_dataset(filepath):\n",
        "    \"\"\"\n",
        "    Load and return the dataset from the given file path.\n",
        "    \"\"\"\n",
        "    data = pd.read_csv(filepath)\n",
        "    print(\"Dataset loaded successfully!\")\n",
        "    return data"
      ],
      "metadata": {
        "id": "FTMKKccfIdA8"
      },
      "execution_count": 21,
      "outputs": []
    },
    {
      "cell_type": "code",
      "source": [
        "# Relational Graph: Scatter Plot\n",
        "def create_relational_graph(data, x_column, y_column, filename=\"relational_graph.png\"):\n",
        "    \"\"\"\n",
        "    Create a scatter plot showing the relationship between two variables.\n",
        "    \"\"\"\n",
        "    plt.figure(figsize=(8, 6))\n",
        "    sns.scatterplot(x=data[x_column], y=data[y_column], alpha=0.7, color='blue')\n",
        "    plt.title(f\"Relational Graph: {y_column} vs {x_column}\")\n",
        "    plt.xlabel(x_column)\n",
        "    plt.ylabel(y_column)\n",
        "    plt.tight_layout()\n",
        "    plt.savefig(filename)\n",
        "    plt.close()"
      ],
      "metadata": {
        "id": "3KR8R3STIiAn"
      },
      "execution_count": 22,
      "outputs": []
    },
    {
      "cell_type": "code",
      "source": [
        "# Categorical Graph: Bar Plot\n",
        "def create_categorical_graph(data, category_column, value_column, filename=\"categorical_graph.png\"):\n",
        "    \"\"\"\n",
        "    Create a bar chart comparing multiple categories.\n",
        "    \"\"\"\n",
        "    plt.figure(figsize=(8, 6))\n",
        "    sns.barplot(x=data[category_column], y=data[value_column], hue=data['Alcohol'], palette=\"viridis\")\n",
        "    plt.title(f\"Categorical Comparison: {value_column} by {category_column}\")\n",
        "    plt.xlabel(category_column)\n",
        "    plt.ylabel(value_column)\n",
        "    plt.tight_layout()\n",
        "    plt.savefig(filename)\n",
        "    plt.close()"
      ],
      "metadata": {
        "id": "B2FYcE-1Ij5Z"
      },
      "execution_count": 38,
      "outputs": []
    },
    {
      "cell_type": "code",
      "source": [
        "# Statistical Graph: Heatmap\n",
        "def create_statistical_graph(data, filename=\"statistical_graph.png\"):\n",
        "    \"\"\"\n",
        "    Create a heatmap showing correlations between numerical features.\n",
        "    \"\"\"\n",
        "    plt.figure(figsize=(10, 8))\n",
        "    correlation = data.corr()\n",
        "    sns.heatmap(correlation, annot=True, fmt=\".2f\", cmap=\"coolwarm\")\n",
        "    plt.title(\"Statistical Heatmap of Feature Correlations\")\n",
        "    plt.tight_layout()\n",
        "    plt.savefig(filename)\n",
        "    plt.close()\n",
        "\n",
        "    # Display key statistical moments\n",
        "    moments = pd.DataFrame({\n",
        "        \"Mean\": data.mean(),\n",
        "        \"Median\": data.median(),\n",
        "        \"Std Dev\": data.std(),\n",
        "        \"Skewness\": data.apply(skew),\n",
        "        \"Kurtosis\": data.apply(kurtosis),\n",
        "    })\n",
        "    print(\"\\nStatistical Moments:\\n\", moments)"
      ],
      "metadata": {
        "id": "1Gfmcq5nImEP"
      },
      "execution_count": 24,
      "outputs": []
    },
    {
      "cell_type": "code",
      "source": [
        "# Elbow Plot\n",
        "def create_elbow_plot(data, max_clusters=10, filename=\"elbow_plot.png\"):\n",
        "    \"\"\"\n",
        "    Create an elbow plot to determine the optimal number of clusters.\n",
        "    \"\"\"\n",
        "    distortions = []\n",
        "    for i in range(1, max_clusters + 1):\n",
        "        model = KMeans(n_clusters=i, random_state=42)\n",
        "        model.fit(data)\n",
        "        distortions.append(model.inertia_)\n",
        "    plt.figure(figsize=(8, 6))\n",
        "    plt.plot(range(1, max_clusters + 1), distortions, marker='o', color='purple')\n",
        "    plt.title(\"Elbow Plot for K-Means Clustering\")\n",
        "    plt.xlabel(\"Number of Clusters\")\n",
        "    plt.ylabel(\"Distortion\")\n",
        "    plt.tight_layout()\n",
        "    plt.savefig(filename)\n",
        "    plt.close()"
      ],
      "metadata": {
        "id": "VHFyFb6VTsYi"
      },
      "execution_count": 25,
      "outputs": []
    },
    {
      "cell_type": "code",
      "source": [
        "# Clustering Function\n",
        "def perform_clustering(data, n_clusters, filename=\"clustering_graph.png\"):\n",
        "    \"\"\"\n",
        "    Perform K-Means clustering and visualize the clusters.\n",
        "    \"\"\"\n",
        "    scaler = StandardScaler()\n",
        "    scaled_data = scaler.fit_transform(data)\n",
        "    kmeans = KMeans(n_clusters=n_clusters, random_state=42)\n",
        "    clusters = kmeans.fit_predict(scaled_data)\n",
        "\n",
        "    # Plot clusters\n",
        "    plt.figure(figsize=(8, 6))\n",
        "    sns.scatterplot(\n",
        "        x=scaled_data[:, 0],\n",
        "        y=scaled_data[:, 1],\n",
        "        hue=clusters,\n",
        "        palette=\"viridis\",\n",
        "        alpha=0.7,\n",
        "        legend=\"full\"\n",
        "    )\n",
        "    plt.scatter(kmeans.cluster_centers_[:, 0], kmeans.cluster_centers_[:, 1], color='red', label='Centroids', marker='X')\n",
        "    plt.title(f\"K-Means Clustering (k={n_clusters})\")\n",
        "    plt.xlabel(\"Feature 1 (Scaled)\")\n",
        "    plt.ylabel(\"Feature 2 (Scaled)\")\n",
        "    plt.legend()\n",
        "    plt.tight_layout()\n",
        "    plt.savefig(filename)\n",
        "    plt.close()\n",
        "\n",
        "    silhouette = silhouette_score(scaled_data, clusters)\n",
        "    print(f\"Silhouette Score for k={n_clusters}: {silhouette:.2f}\")\n",
        "    return clusters"
      ],
      "metadata": {
        "id": "lCYOAKOLJSPl"
      },
      "execution_count": 26,
      "outputs": []
    },
    {
      "cell_type": "code",
      "source": [
        "# Fitting Function\n",
        "def perform_fitting(data, x_column, y_column, filename=\"fitting_graph.png\"):\n",
        "    \"\"\"\n",
        "    Perform linear regression and plot the fit with confidence intervals.\n",
        "    \"\"\"\n",
        "    X = data[[x_column]]\n",
        "    y = data[y_column]\n",
        "    model = LinearRegression().fit(X, y)\n",
        "    predictions = model.predict(X)\n",
        "\n",
        "    # Plot with regression line\n",
        "    plt.figure(figsize=(8, 6))\n",
        "    sns.regplot(x=data[x_column], y=data[y_column], ci=95, color='red', scatter_kws={'alpha': 0.6})\n",
        "    plt.title(f\"Linear Fit: {y_column} vs {x_column}\")\n",
        "    plt.xlabel(x_column)\n",
        "    plt.ylabel(y_column)\n",
        "    plt.tight_layout()\n",
        "    plt.savefig(filename)\n",
        "    plt.close()"
      ],
      "metadata": {
        "id": "FC6rHejDJUtt"
      },
      "execution_count": 40,
      "outputs": []
    },
    {
      "cell_type": "code",
      "source": [
        "# Main Program\n",
        "if __name__ == \"__main__\":\n",
        "    filepath = \"/content/wine-clustering.csv\"\n",
        "    dataset = load_dataset(filepath)\n",
        "\n",
        "    # Select numerical columns for analysis\n",
        "    numeric_data = dataset.select_dtypes(include=[np.number])\n",
        "\n",
        "    # Create Plots\n",
        "    create_relational_graph(dataset, \"Alcohol\", \"Malic_Acid\")\n",
        "    create_categorical_graph(dataset, \"Alcohol\", \"Proline\")\n",
        "    create_statistical_graph(numeric_data)\n",
        "    create_elbow_plot(numeric_data)\n",
        "\n",
        "    # Clustering and Fitting\n",
        "    clusters = perform_clustering(numeric_data, n_clusters=3)\n",
        "    model = perform_fitting(dataset, \"Alcohol\", \"Malic_Acid\")\n"
      ],
      "metadata": {
        "colab": {
          "base_uri": "https://localhost:8080/"
        },
        "id": "4typwkd7JZT5",
        "outputId": "694edd7c-13b5-4ee3-e34a-d1faffea99fc"
      },
      "execution_count": 41,
      "outputs": [
        {
          "output_type": "stream",
          "name": "stdout",
          "text": [
            "Dataset loaded successfully!\n",
            "\n",
            "Statistical Moments:\n",
            "                             Mean   Median     Std Dev  Skewness  Kurtosis\n",
            "Alcohol                13.000618   13.050    0.811827 -0.051047 -0.862260\n",
            "Malic_Acid              2.336348    1.865    1.117146  1.030869  0.257348\n",
            "Ash                     2.366517    2.360    0.274344 -0.175207  1.078576\n",
            "Ash_Alcanity           19.494944   19.500    3.339564  0.211247  0.440823\n",
            "Magnesium              99.741573   98.000   14.282484  1.088915  2.012806\n",
            "Total_Phenols           2.295112    2.355    0.625851  0.085907 -0.845857\n",
            "Flavanoids              2.029270    2.135    0.998859  0.025129 -0.889365\n",
            "Nonflavanoid_Phenols    0.361854    0.340    0.124453  0.446349 -0.652952\n",
            "Proanthocyanins         1.590899    1.555    0.572359  0.512769  0.505671\n",
            "Color_Intensity         5.058090    4.690    2.318286  0.861248  0.337370\n",
            "Hue                     0.957449    0.965    0.228572  0.020913 -0.368025\n",
            "OD280                   2.611685    2.780    0.709990 -0.304690 -1.089675\n",
            "Proline               746.893258  673.500  314.907474  0.761336 -0.275000\n",
            "Silhouette Score for k=3: 0.28\n"
          ]
        }
      ]
    },
    {
      "cell_type": "code",
      "source": [],
      "metadata": {
        "id": "zZjp1YHJJlGt"
      },
      "execution_count": null,
      "outputs": []
    }
  ]
}